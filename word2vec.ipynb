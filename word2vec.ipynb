{
 "cells": [
  {
   "cell_type": "code",
   "execution_count": 6,
   "metadata": {},
   "outputs": [],
   "source": [
    "import word2vec"
   ]
  },
  {
   "cell_type": "code",
   "execution_count": 7,
   "metadata": {},
   "outputs": [
    {
     "name": "stdout",
     "output_type": "stream",
     "text": [
      "Starting training using file ./text8\n",
      "Words processed: 17000K     Vocab size: 4399K  \n",
      "Vocab size (unigrams + bigrams): 2419827\n",
      "Words in train file: 17005206\n",
      "Words written: 17000K\r"
     ]
    }
   ],
   "source": [
    "word2vec.word2phrase('./text8', './text8-phrases', verbose=True)"
   ]
  },
  {
   "cell_type": "code",
   "execution_count": 8,
   "metadata": {},
   "outputs": [
    {
     "name": "stdout",
     "output_type": "stream",
     "text": [
      "Starting training using file ./text8-phrases\n",
      "Vocab size: 98331\n",
      "Words in train file: 15857306\n"
     ]
    },
    {
     "name": "stdout",
     "output_type": "stream",
     "text": [
      "Alpha: 0.001437  Progress: 94.26%  Words/thread/sec: 257.70k  c: 259.80k  .57k  0.024684  Progress: 1.28%  Words/thread/sec: 275.15k  0  Progress: 1.49%  Words/thread/sec: 278.59k  ress: 1.71%  Words/thread/sec: 275.55k  .93%  Words/thread/sec: 278.20k  ords/thread/sec: 280.51k  read/sec: 274.75k  c: 278.65k  85k  lpha: 0.024245  Progress: 3.03%  Words/thread/sec: 276.98k  .024190  Progress: 3.25%  Words/thread/sec: 280.54k    Progress: 3.47%  Words/thread/sec: 282.81k  ess: 3.69%  Words/thread/sec: 280.45k  ds/thread/sec: 283.37k  ad/sec: 282.06k   283.25k  k  ha: 0.023749  Progress: 5.02%  Words/thread/sec: 283.47k  23694  Progress: 5.24%  Words/thread/sec: 284.52k  Progress: 5.46%  Words/thread/sec: 285.81k  s: 5.67%  Words/thread/sec: 284.97k  %  Words/thread/sec: 285.01k  s/thread/sec: 286.04k  d/sec: 285.73k  285.64k    a: 0.023253  Progress: 7.00%  Words/thread/sec: 285.81k  3199  Progress: 7.22%  Words/thread/sec: 285.68k  rogress: 7.44%  Words/thread/sec: 283.45k  : 7.66%  Words/thread/sec: 284.17k    Words/thread/sec: 284.49k  /thread/sec: 282.86k  /sec: 282.78k  83.49k   : 0.022758  Progress: 8.98%  Words/thread/sec: 282.01k  704  Progress: 9.20%  Words/thread/sec: 282.64k  ogress: 9.42%  Words/thread/sec: 280.87k   9.65%  Words/thread/sec: 281.88k   Words/thread/sec: 281.40k  Words/thread/sec: 281.13k   10.29%  Words/thread/sec: 280.76k  Progress: 10.51%  Words/thread/sec: 281.44k  .022322  Progress: 10.73%  Words/thread/sec: 279.71k  280.33k  ead/sec: 278.82k  Words/thread/sec: 279.16k   11.80%  Words/thread/sec: 279.68k  Progress: 12.02%  Words/thread/sec: 278.21k  .021944  Progress: 12.24%  Words/thread/sec: 278.71k  277.72k  ead/sec: 277.49k  Words/thread/sec: 277.78k   13.31%  Words/thread/sec: 276.84k  Progress: 13.53%  Words/thread/sec: 276.57k  .021566  Progress: 13.75%  Words/thread/sec: 277.14k  276.04k  ead/sec: 275.86k  Words/thread/sec: 275.50k   14.83%  Words/thread/sec: 274.84k  Progress: 15.04%  Words/thread/sec: 274.87k  .021188  Progress: 15.26%  Words/thread/sec: 274.71k  274.37k  ead/sec: 274.19k  Words/thread/sec: 273.76k   16.34%  Words/thread/sec: 274.17k  Progress: 16.56%  Words/thread/sec: 274.09k  .020809  Progress: 16.78%  Words/thread/sec: 273.35k  273.45k  ead/sec: 272.28k  Words/thread/sec: 272.85k   17.86%  Words/thread/sec: 273.11k  Progress: 18.08%  Words/thread/sec: 271.89k  .020430  Progress: 18.29%  Words/thread/sec: 272.01k  270.81k  ead/sec: 270.21k  Words/thread/sec: 270.03k   19.38%  Words/thread/sec: 269.73k  Progress: 19.60%  Words/thread/sec: 269.72k  .020046  Progress: 19.83%  Words/thread/sec: 269.52k  269.64k  ead/sec: 269.82k  Words/thread/sec: 269.26k   20.99%  Words/thread/sec: 269.51k  Progress: 21.20%  Words/thread/sec: 269.39k  .019648  Progress: 21.42%  Words/thread/sec: 269.25k  269.14k  ead/sec: 268.97k  ogress: 22.71%  Words/thread/sec: 268.70k  23k  %  Words/thread/sec: 267.96k  ss: 24.24%  Words/thread/sec: 268.17k  9  Progress: 24.46%  Words/thread/sec: 268.01k  : 0.018836  Progress: 24.67%  Words/thread/sec: 267.45k  k  c: 267.63k  thread/sec: 267.39k  %  Words/thread/sec: 267.08k  ss: 25.75%  Words/thread/sec: 267.10k   ords/thread/sec: 266.78k  ogress: 27.48%  Words/thread/sec: 266.33k  18079  Progress: 27.70%  Words/thread/sec: 266.53k  lpha: 0.018025  Progress: 27.91%  Words/thread/sec: 265.96k  6.12k  d/sec: 266.35k  rds/thread/sec: 265.94k  8.78%  Words/thread/sec: 265.94k  ogress: 28.99%  Words/thread/sec: 266.07k  17700  Progress: 29.21%  Words/thread/sec: 265.91k  .50k  9%  Words/thread/sec: 265.24k   0.017266  Progress: 30.95%  Words/thread/sec: 265.01k    : 264.80k  hread/sec: 264.83k    Words/thread/sec: 264.58k  s: 32.02%  Words/thread/sec: 264.51k    Progress: 32.24%  Words/thread/sec: 264.34k   0.016888  Progress: 32.46%  Words/thread/sec: 264.47k    : 264.14k   33.54%  Words/thread/sec: 264.04k  lpha: 0.016454  Progress: 34.20%  Words/thread/sec: 263.73k  /sec: 263.97k  ds/thread/sec: 263.88k  .05%  Words/thread/sec: 263.66k  gress: 35.27%  Words/thread/sec: 263.65k  6132  Progress: 35.49%  Words/thread/sec: 263.60k  pha: 0.016077  Progress: 35.70%  Words/thread/sec: 263.24k  .36k  /sec: 263.07k  ds/thread/sec: 262.84k  : 0.015698  Progress: 37.22%  Words/thread/sec: 262.55k  read/sec: 262.38k   Words/thread/sec: 262.24k  : 38.30%  Words/thread/sec: 262.24k   Progress: 38.52%  Words/thread/sec: 262.49k  0.015318  Progress: 38.74%  Words/thread/sec: 262.35k    262.57k  read/sec: 262.27k   Words/thread/sec: 262.30k  : 39.87%  Words/thread/sec: 262.41k  ds/thread/sec: 261.26k  68  Progress: 41.81%  Words/thread/sec: 261.11k  a: 0.014476  Progress: 42.11%  Words/thread/sec: 261.01k  7k  ec: 261.20k  /thread/sec: 261.03k  7%  Words/thread/sec: 261.17k  ess: 43.19%  Words/thread/sec: 261.20k  52  Progress: 43.41%  Words/thread/sec: 260.95k  a: 0.014097  Progress: 43.63%  Words/thread/sec: 261.06k  hread/sec: 260.83k  013718  Progress: 45.14%  Words/thread/sec: 260.79k  60.65k  ad/sec: 260.69k  ords/thread/sec: 260.64k  46.23%  Words/thread/sec: 260.66k  rogress: 46.44%  Words/thread/sec: 260.58k  013339  Progress: 46.66%  Words/thread/sec: 260.54k  60.64k  .73%  Words/thread/sec: 260.25k  k  hread/sec: 260.40k    Words/thread/sec: 259.99k  s: 49.47%  Words/thread/sec: 260.02k  0.012525  Progress: 49.91%  Words/thread/sec: 259.89k    259.81k  read/sec: 259.81k   Words/thread/sec: 259.70k  012147  Progress: 51.43%  Words/thread/sec: 259.57k  /sec: 259.34k  48%  Words/thread/sec: 259.47k  69  Progress: 52.94%  Words/thread/sec: 259.45k  a: 0.011714  Progress: 53.16%  Words/thread/sec: 259.66k  1k  ec: 259.51k  %  Words/thread/sec: 259.78k  ss: 54.24%  Words/thread/sec: 259.42k   ords/thread/sec: 259.20k  ogress: 55.96%  Words/thread/sec: 259.31k  10957  Progress: 56.18%  Words/thread/sec: 259.35k  lpha: 0.010903  Progress: 56.40%  Words/thread/sec: 259.27k  9.38k  d/sec: 259.46k  rds/thread/sec: 259.41k  7.26%  Words/thread/sec: 259.36k  ogress: 57.48%  Words/thread/sec: 259.35k  10579  Progress: 57.70%  Words/thread/sec: 259.38k  sec: 259.32k    Progress: 59.23%  Words/thread/sec: 259.09k   ead/sec: 259.10k  Words/thread/sec: 259.10k   60.59%  Words/thread/sec: 259.25k  009746  Progress: 61.03%  Words/thread/sec: 259.10k  8.87k  11%  Words/thread/sec: 258.72k    : 258.69k   Words/thread/sec: 258.64k  Progress: 64.08%  Words/thread/sec: 258.58k  58.75k  ad/sec: 258.51k  gress: 65.60%  Words/thread/sec: 258.47k  7k    Words/thread/sec: 258.31k    Progress: 67.33%  Words/thread/sec: 258.32k   0.008116  Progress: 67.55%  Words/thread/sec: 258.44k    : 258.37k  hread/sec: 258.34k    Words/thread/sec: 258.48k  s: 68.63%  Words/thread/sec: 258.37k  rds/thread/sec: 258.14k  gress: 70.38%  Words/thread/sec: 258.35k  ha: 0.007303  Progress: 70.80%  Words/thread/sec: 258.14k  25k  sec: 258.23k  s/thread/sec: 258.16k  66%  Words/thread/sec: 258.19k  79  Progress: 72.10%  Words/thread/sec: 258.07k  : 258.00k  rogress: 73.61%  Words/thread/sec: 257.95k  006556  Progress: 73.83%  Words/thread/sec: 257.90k   74.15%  Words/thread/sec: 258.01k  57.90k  0%  Words/thread/sec: 258.07k  4.91%  Words/thread/sec: 258.02k  6167  Progress: 75.34%  Words/thread/sec: 258.17k  91k  s: 76.64%  Words/thread/sec: 257.91k  57.87k  rds/thread/sec: 257.98k  8.17%  Words/thread/sec: 257.89k  5352  Progress: 78.61%  Words/thread/sec: 258.09k  pha: 0.005297  Progress: 78.83%  Words/thread/sec: 258.00k  .96k    Progress: 80.13%  Words/thread/sec: 257.98k  ad/sec: 258.00k  ords/thread/sec: 258.07k  81.47%  Words/thread/sec: 257.89k  04526  Progress: 81.91%  Words/thread/sec: 258.07k  .98k  s/thread/sec: 257.86k  3  Progress: 83.44%  Words/thread/sec: 257.71k  ead/sec: 257.69k  84.66%  Words/thread/sec: 257.86k  03708  Progress: 85.18%  Words/thread/sec: 257.72k  gress: 85.71%  Words/thread/sec: 257.80k  ss: 86.48%  Words/thread/sec: 257.68k   ead/sec: 257.73k  ogress: 88.22%  Words/thread/sec: 257.79k  77k  %  Words/thread/sec: 257.77k  0.002463  Progress: 90.16%  Words/thread/sec: 257.69k  ad/sec: 257.59k  095  Progress: 91.69%  Words/thread/sec: 257.48k  hread/sec: 257.64k  001651  Progress: 93.41%  Words/thread/sec: 257.72k  s/thread/sec: 257.70k  \r",
      "Alpha: 0.001434  Progress: 94.28%  Words/thread/sec: 257.69k  \r",
      "Alpha: 0.001430  Progress: 94.29%  Words/thread/sec: 257.68k  \r",
      "Alpha: 0.001427  Progress: 94.30%  Words/thread/sec: 257.65k  \r",
      "Alpha: 0.001424  Progress: 94.32%  Words/thread/sec: 257.65k  \r",
      "Alpha: 0.001420  Progress: 94.33%  Words/thread/sec: 257.68k  \r",
      "Alpha: 0.001417  Progress: 94.35%  Words/thread/sec: 257.67k  \r",
      "Alpha: 0.001414  Progress: 94.36%  Words/thread/sec: 257.70k  \r",
      "Alpha: 0.001410  Progress: 94.37%  Words/thread/sec: 257.69k  \r",
      "Alpha: 0.001407  Progress: 94.39%  Words/thread/sec: 257.67k  \r",
      "Alpha: 0.001403  Progress: 94.40%  Words/thread/sec: 257.66k  \r",
      "Alpha: 0.001400  Progress: 94.41%  Words/thread/sec: 257.67k  \r",
      "Alpha: 0.001397  Progress: 94.43%  Words/thread/sec: 257.69k  \r",
      "Alpha: 0.001393  Progress: 94.44%  Words/thread/sec: 257.70k  \r",
      "Alpha: 0.001390  Progress: 94.45%  Words/thread/sec: 257.68k  \r",
      "Alpha: 0.001386  Progress: 94.47%  Words/thread/sec: 257.71k  \r",
      "Alpha: 0.001383  Progress: 94.48%  Words/thread/sec: 257.64k  \r",
      "Alpha: 0.001380  Progress: 94.50%  Words/thread/sec: 257.64k  \r",
      "Alpha: 0.001376  Progress: 94.51%  Words/thread/sec: 257.67k  \r",
      "Alpha: 0.001373  Progress: 94.52%  Words/thread/sec: 257.66k  \r",
      "Alpha: 0.001369  Progress: 94.54%  Words/thread/sec: 257.64k  \r",
      "Alpha: 0.001366  Progress: 94.55%  Words/thread/sec: 257.68k  \r",
      "Alpha: 0.001363  Progress: 94.56%  Words/thread/sec: 257.64k  \r",
      "Alpha: 0.001359  Progress: 94.58%  Words/thread/sec: 257.67k  \r",
      "Alpha: 0.001356  Progress: 94.59%  Words/thread/sec: 257.67k  \r",
      "Alpha: 0.001353  Progress: 94.60%  Words/thread/sec: 257.69k  \r",
      "Alpha: 0.001349  Progress: 94.62%  Words/thread/sec: 257.66k  \r",
      "Alpha: 0.001346  Progress: 94.63%  Words/thread/sec: 257.65k  \r",
      "Alpha: 0.001342  Progress: 94.64%  Words/thread/sec: 257.62k  \r",
      "Alpha: 0.001339  Progress: 94.66%  Words/thread/sec: 257.60k  \r",
      "Alpha: 0.001335  Progress: 94.67%  Words/thread/sec: 257.64k  \r",
      "Alpha: 0.001332  Progress: 94.69%  Words/thread/sec: 257.65k  \r",
      "Alpha: 0.001328  Progress: 94.70%  Words/thread/sec: 257.66k  \r",
      "Alpha: 0.001325  Progress: 94.71%  Words/thread/sec: 257.65k  \r",
      "Alpha: 0.001322  Progress: 94.73%  Words/thread/sec: 257.66k  \r",
      "Alpha: 0.001318  Progress: 94.74%  Words/thread/sec: 257.66k  \r",
      "Alpha: 0.001315  Progress: 94.75%  Words/thread/sec: 257.69k  \r",
      "Alpha: 0.001312  Progress: 94.77%  Words/thread/sec: 257.66k  \r",
      "Alpha: 0.001308  Progress: 94.78%  Words/thread/sec: 257.66k  \r",
      "Alpha: 0.001305  Progress: 94.79%  Words/thread/sec: 257.63k  \r",
      "Alpha: 0.001302  Progress: 94.81%  Words/thread/sec: 257.60k  \r",
      "Alpha: 0.001298  Progress: 94.82%  Words/thread/sec: 257.61k  \r",
      "Alpha: 0.001295  Progress: 94.83%  Words/thread/sec: 257.64k  \r",
      "Alpha: 0.001291  Progress: 94.85%  Words/thread/sec: 257.64k  \r",
      "Alpha: 0.001288  Progress: 94.86%  Words/thread/sec: 257.66k  \r",
      "Alpha: 0.001285  Progress: 94.87%  Words/thread/sec: 257.67k  \r",
      "Alpha: 0.001281  Progress: 94.89%  Words/thread/sec: 257.68k  \r",
      "Alpha: 0.001278  Progress: 94.90%  Words/thread/sec: 257.68k  \r",
      "Alpha: 0.001275  Progress: 94.92%  Words/thread/sec: 257.69k  \r",
      "Alpha: 0.001271  Progress: 94.93%  Words/thread/sec: 257.66k  \r",
      "Alpha: 0.001268  Progress: 94.94%  Words/thread/sec: 257.63k  \r",
      "Alpha: 0.001264  Progress: 94.96%  Words/thread/sec: 257.63k  \r",
      "Alpha: 0.001261  Progress: 94.97%  Words/thread/sec: 257.61k  \r",
      "Alpha: 0.001258  Progress: 94.98%  Words/thread/sec: 257.62k  \r",
      "Alpha: 0.001254  Progress: 95.00%  Words/thread/sec: 257.64k  \r",
      "Alpha: 0.001251  Progress: 95.01%  Words/thread/sec: 257.64k  \r",
      "Alpha: 0.001247  Progress: 95.02%  Words/thread/sec: 257.67k  \r",
      "Alpha: 0.001244  Progress: 95.04%  Words/thread/sec: 257.68k  \r",
      "Alpha: 0.001241  Progress: 95.05%  Words/thread/sec: 257.63k  \r",
      "Alpha: 0.001237  Progress: 95.07%  Words/thread/sec: 257.65k  \r",
      "Alpha: 0.001234  Progress: 95.08%  Words/thread/sec: 257.67k  \r",
      "Alpha: 0.001230  Progress: 95.09%  Words/thread/sec: 257.60k  \r",
      "Alpha: 0.001227  Progress: 95.11%  Words/thread/sec: 257.60k  \r",
      "Alpha: 0.001223  Progress: 95.12%  Words/thread/sec: 257.62k  \r",
      "Alpha:"
     ]
    },
    {
     "name": "stdout",
     "output_type": "stream",
     "text": [
      "Alpha: 0.000002  Progress: 100.03%  Words/thread/sec: 258.07k  a: 0.000787  Progress: 96.86%  Words/thread/sec: 257.79k    Words/thread/sec: 257.72k  49%  Words/thread/sec: 257.88k  "
     ]
    }
   ],
   "source": [
    "word2vec.word2vec('./text8-phrases', './text8.bin',size=100, verbose=True)"
   ]
  },
  {
   "cell_type": "code",
   "execution_count": 9,
   "metadata": {},
   "outputs": [
    {
     "name": "stdout",
     "output_type": "stream",
     "text": [
      "Starting training using file ./text8\n",
      "Vocab size: 71291\n",
      "Words in train file: 16718843\n"
     ]
    },
    {
     "name": "stdout",
     "output_type": "stream",
     "text": [
      "Alpha: 0.003889  Progress: 84.46%  Words/thread/sec: 267.79k  /sec: 287.81k  254.81k    a: 0.024772  Progress: 0.92%  Words/thread/sec: 279.02k  4721  Progress: 1.13%  Words/thread/sec: 277.96k  rogress: 1.33%  Words/thread/sec: 286.20k  : 1.53%  Words/thread/sec: 288.69k    Words/thread/sec: 280.75k  /thread/sec: 287.27k  /sec: 291.63k  84.93k   : 0.024311  Progress: 2.77%  Words/thread/sec: 287.52k  260  Progress: 2.97%  Words/thread/sec: 288.58k  ogress: 3.18%  Words/thread/sec: 289.25k   3.39%  Words/thread/sec: 290.98k   Words/thread/sec: 288.52k  thread/sec: 290.10k  sec: 289.26k  8.65k   0.023846  Progress: 4.63%  Words/thread/sec: 290.38k  95  Progress: 4.83%  Words/thread/sec: 289.46k  gress: 5.04%  Words/thread/sec: 290.52k  5.24%  Words/thread/sec: 290.04k  Words/thread/sec: 289.54k  hread/sec: 290.10k  ec: 289.81k  .22k  0.023384  Progress: 6.48%  Words/thread/sec: 290.28k  2  Progress: 6.68%  Words/thread/sec: 290.40k  ress: 6.89%  Words/thread/sec: 290.26k  .09%  Words/thread/sec: 290.78k  ords/thread/sec: 289.26k  read/sec: 289.83k  c: 291.09k  71k  lpha: 0.022971  Progress: 8.13%  Words/thread/sec: 290.74k  .022920  Progress: 8.33%  Words/thread/sec: 291.69k    Progress: 8.54%  Words/thread/sec: 290.68k  ess: 8.74%  Words/thread/sec: 290.68k  94%  Words/thread/sec: 291.60k  rds/thread/sec: 290.72k  ead/sec: 290.70k  : 291.37k  1k  pha: 0.022509  Progress: 9.98%  Words/thread/sec: 290.95k  6k  ec: 289.83k  /thread/sec: 290.48k  8%  Words/thread/sec: 291.01k  ess: 10.98%  Words/thread/sec: 289.33k  07  Progress: 11.18%  Words/thread/sec: 289.87k  a: 0.022157  Progress: 11.39%  Words/thread/sec: 290.48k  3k  ec: 287.42k  /thread/sec: 287.55k  9%  Words/thread/sec: 286.53k  ess: 12.39%  Words/thread/sec: 285.77k  53  Progress: 12.60%  Words/thread/sec: 286.40k  a: 0.021802  Progress: 12.80%  Words/thread/sec: 285.85k  5k  ec: 286.33k  /thread/sec: 286.13k  0%  Words/thread/sec: 285.58k  ess: 13.81%  Words/thread/sec: 285.26k  00  Progress: 14.01%  Words/thread/sec: 284.32k  a: 0.021449  Progress: 14.22%  Words/thread/sec: 283.42k  8k  ec: 283.01k  /thread/sec: 282.22k  2%  Words/thread/sec: 282.94k  ess: 15.23%  Words/thread/sec: 282.84k  46  Progress: 15.43%  Words/thread/sec: 282.22k  a: 0.021095  Progress: 15.63%  Words/thread/sec: 282.55k  2k  ec: 282.02k  /thread/sec: 281.78k  4%  Words/thread/sec: 281.50k  ess: 16.65%  Words/thread/sec: 280.59k  90  Progress: 16.85%  Words/thread/sec: 280.88k  a: 0.020740  Progress: 17.05%  Words/thread/sec: 280.65k  7k  ec: 280.54k  %  Words/thread/sec: 280.53k  ss: 18.07%  Words/thread/sec: 280.11k   0.020384  Progress: 18.48%  Words/thread/sec: 280.24k    : 279.89k  hread/sec: 280.18k    Words/thread/sec: 279.93k  s: 19.49%  Words/thread/sec: 279.43k  .00%  Words/thread/sec: 278.44k  gress: 21.20%  Words/thread/sec: 278.45k  9653  Progress: 21.40%  Words/thread/sec: 278.29k  pha: 0.019602  Progress: 21.60%  Words/thread/sec: 278.35k  .54k  /sec: 278.50k  ds/thread/sec: 277.81k  .41%  Words/thread/sec: 278.00k  gress: 22.61%  Words/thread/sec: 277.98k  9300  Progress: 22.81%  Words/thread/sec: 277.38k  ec: 277.08k  s: 24.03%  Words/thread/sec: 276.64k  276.36k  ead/sec: 276.45k  Words/thread/sec: 276.18k   25.45%  Words/thread/sec: 276.31k  Progress: 25.66%  Words/thread/sec: 276.22k  .018538  Progress: 25.86%  Words/thread/sec: 276.07k  276.20k  6.87%  Words/thread/sec: 275.98k  ha: 0.018133  Progress: 27.48%  Words/thread/sec: 275.96k  ec: 275.70k  /thread/sec: 275.86k  8%  Words/thread/sec: 275.47k  ess: 28.49%  Words/thread/sec: 275.51k  30  Progress: 28.69%  Words/thread/sec: 275.52k  a: 0.017779  Progress: 28.90%  Words/thread/sec: 275.15k  2k  ec: 275.26k  /thread/sec: 274.95k    Progress: 30.11%  Words/thread/sec: 274.83k  274.78k  1.32%  Words/thread/sec: 274.12k  ogress: 31.52%  Words/thread/sec: 274.08k  17072  Progress: 31.72%  Words/thread/sec: 274.16k  lpha: 0.017021  Progress: 31.93%  Words/thread/sec: 273.95k  4.13k  d/sec: 274.01k  rds/thread/sec: 274.07k  2.73%  Words/thread/sec: 273.96k  ogress: 32.94%  Words/thread/sec: 273.89k  86k  %  Words/thread/sec: 273.59k    Progress: 34.58%  Words/thread/sec: 273.78k   0.016312  Progress: 34.76%  Words/thread/sec: 273.48k    : 273.52k  hread/sec: 273.31k    Words/thread/sec: 273.49k  s: 35.77%  Words/thread/sec: 273.62k    Progress: 35.98%  Words/thread/sec: 273.33k   0.015958  Progress: 36.18%  Words/thread/sec: 273.35k  ead/sec: 273.04k  5603  Progress: 37.60%  Words/thread/sec: 272.80k  pha: 0.015555  Progress: 37.81%  Words/thread/sec: 272.40k  .97k  /sec: 272.71k  ds/thread/sec: 272.49k  .61%  Words/thread/sec: 272.62k  gress: 38.82%  Words/thread/sec: 272.78k  5248  Progress: 39.02%  Words/thread/sec: 272.52k  pha: 0.015197  Progress: 39.24%  Words/thread/sec: 272.59k  .67k  8%  Words/thread/sec: 272.41k  %  Words/thread/sec: 272.10k  ead/sec: 271.94k  Words/thread/sec: 272.07k   41.74%  Words/thread/sec: 271.87k  014466  Progress: 42.15%  Words/thread/sec: 272.19k  d/sec: 272.03k  rds/thread/sec: 271.72k  a: 0.014060  Progress: 43.77%  Words/thread/sec: 271.52k   Words/thread/sec: 271.55k  : 44.79%  Words/thread/sec: 271.39k   Progress: 44.99%  Words/thread/sec: 271.55k  0.013705  Progress: 45.19%  Words/thread/sec: 271.27k    271.53k  read/sec: 271.18k   Words/thread/sec: 271.33k  : 46.20%  Words/thread/sec: 271.43k  ds/thread/sec: 270.91k  96  Progress: 48.03%  Words/thread/sec: 270.69k  a: 0.012945  Progress: 48.23%  Words/thread/sec: 270.64k  c: 270.78k  thread/sec: 270.62k  s: 49.24%  Words/thread/sec: 270.74k    Progress: 49.44%  Words/thread/sec: 270.46k   0.012592  Progress: 49.65%  Words/thread/sec: 270.45k  ead/sec: 270.31k  ogress: 50.86%  Words/thread/sec: 270.07k  pha: 0.012174  Progress: 51.32%  Words/thread/sec: 269.96k  .93k  s/thread/sec: 269.80k  ess: 52.27%  Words/thread/sec: 270.01k  84  Progress: 52.48%  Words/thread/sec: 269.81k  k   Words/thread/sec: 269.64k  011479  Progress: 54.10%  Words/thread/sec: 269.36k  9.34k  d/sec: 269.26k  rds/thread/sec: 269.26k  5.10%  Words/thread/sec: 269.45k  ogress: 55.31%  Words/thread/sec: 269.19k  11126  Progress: 55.51%  Words/thread/sec: 269.25k  lpha: 0.011074  Progress: 55.71%  Words/thread/sec: 269.39k  9.49k  thread/sec: 269.22k  71  Progress: 56.93%  Words/thread/sec: 269.09k  read/sec: 269.02k   Words/thread/sec: 269.00k  k   Progress: 58.35%  Words/thread/sec: 268.97k  ad/sec: 268.94k  9.59%  Words/thread/sec: 268.81k  1k  : 61.28%  Words/thread/sec: 268.64k  .009584  Progress: 61.68%  Words/thread/sec: 268.61k  68.79k  rds/thread/sec: 268.78k  2.68%  Words/thread/sec: 268.74k  9231  Progress: 63.09%  Words/thread/sec: 268.69k  ec: 268.57k  s: 64.31%  Words/thread/sec: 268.38k  0.008817  Progress: 64.75%  Words/thread/sec: 268.47k   ead/sec: 268.41k  Words/thread/sec: 268.60k  rogress: 65.93%  Words/thread/sec: 268.51k  008469  Progress: 66.14%  Words/thread/sec: 268.58k  8.41k  15%  Words/thread/sec: 268.29k  : 0.008064  Progress: 67.76%  Words/thread/sec: 268.05k  k  hread/sec: 268.01k    Words/thread/sec: 268.08k   Progress: 68.97%  Words/thread/sec: 268.01k  0.007710  Progress: 69.17%  Words/thread/sec: 268.07k   .77%  Words/thread/sec: 268.04k  ogress: 70.39%  Words/thread/sec: 267.90k  ec: 267.76k  %  Words/thread/sec: 267.85k    Progress: 72.00%  Words/thread/sec: 267.81k   ead/sec: 267.92k  6597  Progress: 73.62%  Words/thread/sec: 267.95k  thread/sec: 267.81k  %  Words/thread/sec: 268.09k  ss: 74.84%  Words/thread/sec: 267.82k  3  Progress: 75.04%  Words/thread/sec: 267.94k    read/sec: 267.95k   Words/thread/sec: 268.01k  : 76.25%  Words/thread/sec: 267.92k  7.89k  ess: 77.89%  Words/thread/sec: 267.78k  82  Progress: 78.08%  Words/thread/sec: 267.79k  k  c: 267.73k    Words/thread/sec: 267.70k  s: 79.32%  Words/thread/sec: 267.79k  ead/sec: 267.70k  267.71k  0.81%  Words/thread/sec: 267.77k  ha: 0.004696  Progress: 81.35%  Words/thread/sec: 267.89k  7.80k  sec: 267.81k  s/thread/sec: 267.78k  23%  Words/thread/sec: 267.84k  44  Progress: 82.64%  Words/thread/sec: 267.86k  a: 0.004293  Progress: 82.84%  Words/thread/sec: 267.82k  4k  : 83.85%  Words/thread/sec: 267.79k  \r",
      "Alpha: 0.003886  Progress: 84.47%  Words/thread/sec: 267.81k  \r",
      "Alpha: 0.003883  Progress: 84.48%  Words/thread/sec: 267.75k  \r",
      "Alpha: 0.003879  Progress: 84.50%  Words/thread/sec: 267.79k  \r",
      "Alpha: 0.003876  Progress: 84.51%  Words/thread/sec: 267.76k  \r",
      "Alpha: 0.003873  Progress: 84.52%  Words/thread/sec: 267.71k  \r",
      "Alpha: 0.003870  Progress: 84.53%  Words/thread/sec: 267.74k  \r",
      "Alpha: 0.003866  Progress: 84.55%  Words/thread/sec: 267.77k  \r",
      "Alpha: 0.003863  Progress: 84.56%  Words/thread/sec: 267.78k  \r",
      "Alpha: 0.003863  Progress: 84.57%  Words/thread/sec: 267.76k  \r",
      "Alpha: 0.003863  Progress: 84.59%  Words/thread/sec: 267.78k  \r",
      "Alpha: 0.003863  Progress: 84.60%  Words/thread/sec: 267.80k  \r",
      "Alpha: 0.003863  Progress: 84.61%  Words/thread/sec: 267.83k  \r",
      "Alpha: 0.003863  Progress: 84.68%  Words/thread/sec: 267.91k  \r",
      "Alpha: 0.003863  Progress: 84.69%  Words/thread/sec: 267.95k  \r",
      "Alpha: 0.003824  Progress: 84.71%  Words/thread/sec: 267.88k  \r",
      "Alpha: 0.003863  Progress: 84.62%  Words/thread/sec: 2"
     ]
    },
    {
     "name": "stdout",
     "output_type": "stream",
     "text": [
      "Alpha: 0.000002  Progress: 100.03%  Words/thread/sec: 267.53k  rds/thread/sec: 267.86k  ogress: 85.48%  Words/thread/sec: 267.84k  pha: 0.003531  Progress: 85.89%  Words/thread/sec: 268.02k  /thread/sec: 267.99k  ss: 86.89%  Words/thread/sec: 267.89k   ords/thread/sec: 267.94k  2823  Progress: 88.72%  Words/thread/sec: 267.94k  ec: 267.97k  s: 89.93%  Words/thread/sec: 267.94k  rds/thread/sec: 267.67k  064  Progress: 91.76%  Words/thread/sec: 267.83k  c: 267.89k  : 92.96%  Words/thread/sec: 267.83k  ds/thread/sec: 267.63k  06  Progress: 94.79%  Words/thread/sec: 267.71k  : 267.69k   96.00%  Words/thread/sec: 267.62k  lpha: 0.000850  Progress: 96.61%  Words/thread/sec: 267.57k  s/thread/sec: 267.51k  6  Progress: 97.83%  Words/thread/sec: 267.48k  ead/sec: 267.41k  ogress: 99.27%  Words/thread/sec: 267.51k  50k  "
     ]
    }
   ],
   "source": [
    "word2vec.word2clusters('./text8', 'text8-clusters.txt', 100, verbose=True)"
   ]
  },
  {
   "cell_type": "code",
   "execution_count": 10,
   "metadata": {},
   "outputs": [],
   "source": [
    "model = word2vec.load('./text8.bin')"
   ]
  },
  {
   "cell_type": "code",
   "execution_count": 11,
   "metadata": {},
   "outputs": [
    {
     "data": {
      "text/plain": [
       "[('dog', 'cat', 0.8757651848202184),\n",
       " ('dog', 'fish', 0.576146212617054),\n",
       " ('cat', 'fish', 0.6075471967292344)]"
      ]
     },
     "execution_count": 11,
     "metadata": {},
     "output_type": "execute_result"
    }
   ],
   "source": [
    "model.distance(\"dog\", \"cat\", \"fish\")"
   ]
  },
  {
   "cell_type": "code",
   "execution_count": 12,
   "metadata": {},
   "outputs": [
    {
     "data": {
      "text/plain": [
       "array([ 0.10383469, -0.03810332,  0.10694793, -0.07635857,  0.01192249,\n",
       "        0.00898876,  0.07324234,  0.13108669,  0.03215753,  0.29339385,\n",
       "        0.09017763,  0.07774335, -0.12340257, -0.14901538, -0.00491548,\n",
       "        0.25304404,  0.16912441,  0.0418642 , -0.09427869, -0.11164249,\n",
       "       -0.01351638,  0.10025671,  0.05933226, -0.02902417,  0.07949277,\n",
       "       -0.05298655, -0.17613231,  0.02685861,  0.16368447,  0.02420704,\n",
       "       -0.05695096,  0.04067115, -0.00434021,  0.20319873, -0.03105992,\n",
       "        0.12483331,  0.02873126,  0.10413764, -0.00161448,  0.12126049,\n",
       "        0.20188434,  0.08547278, -0.20287371, -0.09231057, -0.02627631,\n",
       "       -0.04817518,  0.05105604, -0.09251729, -0.0307997 ,  0.06902239,\n",
       "       -0.05298126,  0.17325756, -0.05238661, -0.01418307, -0.04091166,\n",
       "       -0.18264481,  0.06929308, -0.05004989, -0.1437766 ,  0.07005091,\n",
       "       -0.05088917, -0.01436506, -0.04813844, -0.0013987 , -0.11721841,\n",
       "        0.0777441 , -0.01684148, -0.00281684,  0.13080715, -0.12717834,\n",
       "        0.10603178,  0.08179069, -0.00843914, -0.2316694 ,  0.08064679,\n",
       "        0.05797226,  0.06183406,  0.12332366, -0.13162568,  0.01772066,\n",
       "       -0.04370699,  0.00756116, -0.12563482, -0.11801848,  0.07722992,\n",
       "        0.08703645,  0.13531302,  0.05702959,  0.07011075,  0.14736708,\n",
       "       -0.0212818 , -0.07669111, -0.08806165,  0.00780609,  0.01015928,\n",
       "       -0.01203219,  0.04538186,  0.09031279, -0.0704932 , -0.01602621])"
      ]
     },
     "execution_count": 12,
     "metadata": {},
     "output_type": "execute_result"
    }
   ],
   "source": [
    "model['smart']"
   ]
  },
  {
   "cell_type": "code",
   "execution_count": 13,
   "metadata": {},
   "outputs": [
    {
     "data": {
      "text/plain": [
       "[('smart', 'intelligent', 0.501432082299897)]"
      ]
     },
     "execution_count": 13,
     "metadata": {},
     "output_type": "execute_result"
    }
   ],
   "source": [
    "model.distance(\"smart\", \"intelligent\")"
   ]
  },
  {
   "cell_type": "code",
   "execution_count": 14,
   "metadata": {},
   "outputs": [
    {
     "data": {
      "text/plain": [
       "[('intelligent', 'smart', 0.501432082299897)]"
      ]
     },
     "execution_count": 14,
     "metadata": {},
     "output_type": "execute_result"
    }
   ],
   "source": [
    "model.distance(\"intelligent\", \"smart\")"
   ]
  },
  {
   "cell_type": "code",
   "execution_count": 15,
   "metadata": {},
   "outputs": [
    {
     "data": {
      "text/plain": [
       "[('smart', 'smarter', 0.5808234781555707)]"
      ]
     },
     "execution_count": 15,
     "metadata": {},
     "output_type": "execute_result"
    }
   ],
   "source": [
    "model.distance(\"smart\", \"smarter\")"
   ]
  },
  {
   "cell_type": "code",
   "execution_count": 16,
   "metadata": {},
   "outputs": [
    {
     "data": {
      "text/plain": [
       "[('smart', 'clever', 0.6580811169167574)]"
      ]
     },
     "execution_count": 16,
     "metadata": {},
     "output_type": "execute_result"
    }
   ],
   "source": [
    "model.distance(\"smart\", \"clever\")"
   ]
  },
  {
   "cell_type": "code",
   "execution_count": 17,
   "metadata": {},
   "outputs": [
    {
     "data": {
      "text/plain": [
       "[('smart', 'genius', 0.3177689733442094)]"
      ]
     },
     "execution_count": 17,
     "metadata": {},
     "output_type": "execute_result"
    }
   ],
   "source": [
    "model.distance(\"smart\", \"genius\")"
   ]
  },
  {
   "cell_type": "code",
   "execution_count": 18,
   "metadata": {},
   "outputs": [
    {
     "data": {
      "text/plain": [
       "[('predictable', 'capable', 0.3125932738890035)]"
      ]
     },
     "execution_count": 18,
     "metadata": {},
     "output_type": "execute_result"
    }
   ],
   "source": [
    "model.distance(\"predictable\", \"capable\")"
   ]
  },
  {
   "cell_type": "code",
   "execution_count": 19,
   "metadata": {},
   "outputs": [
    {
     "data": {
      "text/plain": [
       "[('merciless', 'penniless', 0.5327922426685675)]"
      ]
     },
     "execution_count": 19,
     "metadata": {},
     "output_type": "execute_result"
    }
   ],
   "source": [
    "model.distance(\"merciless\", \"penniless\")"
   ]
  },
  {
   "cell_type": "code",
   "execution_count": 20,
   "metadata": {},
   "outputs": [
    {
     "data": {
      "text/plain": [
       "[('predictable', 'portable', 0.2909192081434649)]"
      ]
     },
     "execution_count": 20,
     "metadata": {},
     "output_type": "execute_result"
    }
   ],
   "source": [
    "model.distance(\"predictable\", \"portable\")"
   ]
  },
  {
   "cell_type": "code",
   "execution_count": 21,
   "metadata": {},
   "outputs": [
    {
     "ename": "KeyError",
     "evalue": "'moneyless'",
     "output_type": "error",
     "traceback": [
      "\u001b[0;31m---------------------------------------------------------------------------\u001b[0m",
      "\u001b[0;31mKeyError\u001b[0m                                  Traceback (most recent call last)",
      "\u001b[0;32m<ipython-input-21-8cd365b59d8a>\u001b[0m in \u001b[0;36m<module>\u001b[0;34m\u001b[0m\n\u001b[0;32m----> 1\u001b[0;31m \u001b[0mmodel\u001b[0m\u001b[0;34m.\u001b[0m\u001b[0mdistance\u001b[0m\u001b[0;34m(\u001b[0m\u001b[0;34m\"merciless\"\u001b[0m\u001b[0;34m,\u001b[0m \u001b[0;34m\"moneyless\"\u001b[0m\u001b[0;34m)\u001b[0m\u001b[0;34m\u001b[0m\u001b[0m\n\u001b[0m",
      "\u001b[0;32m/usr/local/lib/python3.7/site-packages/word2vec/wordvectors.py\u001b[0m in \u001b[0;36mdistance\u001b[0;34m(self, *args, **kwargs)\u001b[0m\n\u001b[1;32m     84\u001b[0m         \u001b[0mret\u001b[0m \u001b[0;34m=\u001b[0m \u001b[0;34m[\u001b[0m\u001b[0;34m]\u001b[0m\u001b[0;34m\u001b[0m\u001b[0m\n\u001b[1;32m     85\u001b[0m         \u001b[0;32mfor\u001b[0m \u001b[0mword1\u001b[0m\u001b[0;34m,\u001b[0m \u001b[0mword2\u001b[0m \u001b[0;32min\u001b[0m \u001b[0mcombinations\u001b[0m\u001b[0;34m:\u001b[0m\u001b[0;34m\u001b[0m\u001b[0m\n\u001b[0;32m---> 86\u001b[0;31m             \u001b[0mdist\u001b[0m \u001b[0;34m=\u001b[0m \u001b[0mdistance\u001b[0m\u001b[0;34m(\u001b[0m\u001b[0mself\u001b[0m\u001b[0;34m[\u001b[0m\u001b[0mword1\u001b[0m\u001b[0;34m]\u001b[0m\u001b[0;34m,\u001b[0m \u001b[0mself\u001b[0m\u001b[0;34m[\u001b[0m\u001b[0mword2\u001b[0m\u001b[0;34m]\u001b[0m\u001b[0;34m,\u001b[0m \u001b[0mmetric\u001b[0m\u001b[0;34m=\u001b[0m\u001b[0mmetric\u001b[0m\u001b[0;34m)\u001b[0m\u001b[0;34m\u001b[0m\u001b[0m\n\u001b[0m\u001b[1;32m     87\u001b[0m             \u001b[0mret\u001b[0m\u001b[0;34m.\u001b[0m\u001b[0mappend\u001b[0m\u001b[0;34m(\u001b[0m\u001b[0;34m(\u001b[0m\u001b[0mword1\u001b[0m\u001b[0;34m,\u001b[0m \u001b[0mword2\u001b[0m\u001b[0;34m,\u001b[0m \u001b[0mdist\u001b[0m\u001b[0;34m)\u001b[0m\u001b[0;34m)\u001b[0m\u001b[0;34m\u001b[0m\u001b[0m\n\u001b[1;32m     88\u001b[0m         \u001b[0;32mreturn\u001b[0m \u001b[0mret\u001b[0m\u001b[0;34m\u001b[0m\u001b[0m\n",
      "\u001b[0;32m/usr/local/lib/python3.7/site-packages/word2vec/wordvectors.py\u001b[0m in \u001b[0;36m__getitem__\u001b[0;34m(self, word)\u001b[0m\n\u001b[1;32m     55\u001b[0m \u001b[0;34m\u001b[0m\u001b[0m\n\u001b[1;32m     56\u001b[0m     \u001b[0;32mdef\u001b[0m \u001b[0m__getitem__\u001b[0m\u001b[0;34m(\u001b[0m\u001b[0mself\u001b[0m\u001b[0;34m,\u001b[0m \u001b[0mword\u001b[0m\u001b[0;34m)\u001b[0m\u001b[0;34m:\u001b[0m\u001b[0;34m\u001b[0m\u001b[0m\n\u001b[0;32m---> 57\u001b[0;31m         \u001b[0;32mreturn\u001b[0m \u001b[0mself\u001b[0m\u001b[0;34m.\u001b[0m\u001b[0mget_vector\u001b[0m\u001b[0;34m(\u001b[0m\u001b[0mword\u001b[0m\u001b[0;34m)\u001b[0m\u001b[0;34m\u001b[0m\u001b[0m\n\u001b[0m\u001b[1;32m     58\u001b[0m \u001b[0;34m\u001b[0m\u001b[0m\n\u001b[1;32m     59\u001b[0m     \u001b[0;32mdef\u001b[0m \u001b[0m__contains__\u001b[0m\u001b[0;34m(\u001b[0m\u001b[0mself\u001b[0m\u001b[0;34m,\u001b[0m \u001b[0mword\u001b[0m\u001b[0;34m)\u001b[0m\u001b[0;34m:\u001b[0m\u001b[0;34m\u001b[0m\u001b[0m\n",
      "\u001b[0;32m/usr/local/lib/python3.7/site-packages/word2vec/wordvectors.py\u001b[0m in \u001b[0;36mget_vector\u001b[0;34m(self, word)\u001b[0m\n\u001b[1;32m     64\u001b[0m         \u001b[0mReturns\u001b[0m \u001b[0mthe\u001b[0m \u001b[0mvector\u001b[0m \u001b[0;32mfor\u001b[0m \u001b[0ma\u001b[0m\u001b[0;31m \u001b[0m\u001b[0;31m`\u001b[0m\u001b[0mword\u001b[0m\u001b[0;31m`\u001b[0m \u001b[0;32min\u001b[0m \u001b[0mthe\u001b[0m \u001b[0mvocabulary\u001b[0m\u001b[0;34m\u001b[0m\u001b[0m\n\u001b[1;32m     65\u001b[0m         \"\"\"\n\u001b[0;32m---> 66\u001b[0;31m         \u001b[0;32mreturn\u001b[0m \u001b[0mself\u001b[0m\u001b[0;34m.\u001b[0m\u001b[0mvectors\u001b[0m\u001b[0;34m[\u001b[0m\u001b[0mself\u001b[0m\u001b[0;34m.\u001b[0m\u001b[0mix\u001b[0m\u001b[0;34m(\u001b[0m\u001b[0mword\u001b[0m\u001b[0;34m)\u001b[0m\u001b[0;34m]\u001b[0m\u001b[0;34m\u001b[0m\u001b[0m\n\u001b[0m\u001b[1;32m     67\u001b[0m \u001b[0;34m\u001b[0m\u001b[0m\n\u001b[1;32m     68\u001b[0m     \u001b[0;32mdef\u001b[0m \u001b[0mdistance\u001b[0m\u001b[0;34m(\u001b[0m\u001b[0mself\u001b[0m\u001b[0;34m,\u001b[0m \u001b[0;34m*\u001b[0m\u001b[0margs\u001b[0m\u001b[0;34m,\u001b[0m \u001b[0;34m**\u001b[0m\u001b[0mkwargs\u001b[0m\u001b[0;34m)\u001b[0m\u001b[0;34m:\u001b[0m\u001b[0;34m\u001b[0m\u001b[0m\n",
      "\u001b[0;32m/usr/local/lib/python3.7/site-packages/word2vec/wordvectors.py\u001b[0m in \u001b[0;36mix\u001b[0;34m(self, word)\u001b[0m\n\u001b[1;32m     37\u001b[0m         \u001b[0mReturns\u001b[0m \u001b[0mthe\u001b[0m \u001b[0mindex\u001b[0m \u001b[0mon\u001b[0m\u001b[0;31m \u001b[0m\u001b[0;31m`\u001b[0m\u001b[0mself\u001b[0m\u001b[0;34m.\u001b[0m\u001b[0mvocab\u001b[0m\u001b[0;31m`\u001b[0m \u001b[0;32mand\u001b[0m\u001b[0;31m \u001b[0m\u001b[0;31m`\u001b[0m\u001b[0mself\u001b[0m\u001b[0;34m.\u001b[0m\u001b[0mvectors\u001b[0m\u001b[0;31m`\u001b[0m \u001b[0;32mfor\u001b[0m\u001b[0;31m \u001b[0m\u001b[0;31m`\u001b[0m\u001b[0mword\u001b[0m\u001b[0;31m`\u001b[0m\u001b[0;34m\u001b[0m\u001b[0m\n\u001b[1;32m     38\u001b[0m         \"\"\"\n\u001b[0;32m---> 39\u001b[0;31m         \u001b[0;32mreturn\u001b[0m \u001b[0mself\u001b[0m\u001b[0;34m.\u001b[0m\u001b[0mvocab_hash\u001b[0m\u001b[0;34m[\u001b[0m\u001b[0mword\u001b[0m\u001b[0;34m]\u001b[0m\u001b[0;34m\u001b[0m\u001b[0m\n\u001b[0m\u001b[1;32m     40\u001b[0m \u001b[0;34m\u001b[0m\u001b[0m\n\u001b[1;32m     41\u001b[0m     \u001b[0;32mdef\u001b[0m \u001b[0mword\u001b[0m\u001b[0;34m(\u001b[0m\u001b[0mself\u001b[0m\u001b[0;34m,\u001b[0m \u001b[0mix\u001b[0m\u001b[0;34m)\u001b[0m\u001b[0;34m:\u001b[0m\u001b[0;34m\u001b[0m\u001b[0m\n",
      "\u001b[0;31mKeyError\u001b[0m: 'moneyless'"
     ]
    }
   ],
   "source": [
    "model.distance(\"merciless\", \"moneyless\")"
   ]
  },
  {
   "cell_type": "code",
   "execution_count": 22,
   "metadata": {},
   "outputs": [
    {
     "data": {
      "text/plain": [
       "[('merciless', 'priceless', 0.45799782720271026)]"
      ]
     },
     "execution_count": 22,
     "metadata": {},
     "output_type": "execute_result"
    }
   ],
   "source": [
    "model.distance(\"merciless\", \"priceless\")"
   ]
  },
  {
   "cell_type": "code",
   "execution_count": 23,
   "metadata": {},
   "outputs": [
    {
     "data": {
      "text/plain": [
       "[('predictable', 'portable', 0.2909192081434649)]"
      ]
     },
     "execution_count": 23,
     "metadata": {},
     "output_type": "execute_result"
    }
   ],
   "source": [
    "model.distance(\"predictable\", \"portable\")"
   ]
  },
  {
   "cell_type": "code",
   "execution_count": 24,
   "metadata": {},
   "outputs": [
    {
     "data": {
      "text/plain": [
       "[('merciless', 'homeless', 0.20107688614188196)]"
      ]
     },
     "execution_count": 24,
     "metadata": {},
     "output_type": "execute_result"
    }
   ],
   "source": [
    "model.distance(\"merciless\", \"homeless\")"
   ]
  },
  {
   "cell_type": "code",
   "execution_count": 25,
   "metadata": {},
   "outputs": [
    {
     "data": {
      "text/plain": [
       "[('merciless', 'fearless', 0.5879441927826895)]"
      ]
     },
     "execution_count": 25,
     "metadata": {},
     "output_type": "execute_result"
    }
   ],
   "source": [
    "model.distance(\"merciless\", \"fearless\")"
   ]
  },
  {
   "cell_type": "code",
   "execution_count": 26,
   "metadata": {},
   "outputs": [
    {
     "data": {
      "text/plain": [
       "[('merciless', 'helpless', 0.3818820661175661)]"
      ]
     },
     "execution_count": 26,
     "metadata": {},
     "output_type": "execute_result"
    }
   ],
   "source": [
    "model.distance(\"merciless\", \"helpless\")"
   ]
  },
  {
   "cell_type": "code",
   "execution_count": 27,
   "metadata": {},
   "outputs": [
    {
     "data": {
      "text/plain": [
       "[('predictable', 'capable', 0.3125932738890035)]"
      ]
     },
     "execution_count": 27,
     "metadata": {},
     "output_type": "execute_result"
    }
   ],
   "source": [
    "model.distance(\"predictable\", \"capable\")"
   ]
  },
  {
   "cell_type": "code",
   "execution_count": 28,
   "metadata": {},
   "outputs": [
    {
     "data": {
      "text/plain": [
       "[('predictable', 'adaptable', 0.524790256663955)]"
      ]
     },
     "execution_count": 28,
     "metadata": {},
     "output_type": "execute_result"
    }
   ],
   "source": [
    "model.distance(\"predictable\", \"adaptable\")"
   ]
  },
  {
   "cell_type": "code",
   "execution_count": 29,
   "metadata": {},
   "outputs": [
    {
     "data": {
      "text/plain": [
       "[('portable', 'adaptable', 0.5064347763568511)]"
      ]
     },
     "execution_count": 29,
     "metadata": {},
     "output_type": "execute_result"
    }
   ],
   "source": [
    "model.distance(\"portable\", \"adaptable\")"
   ]
  },
  {
   "cell_type": "code",
   "execution_count": 30,
   "metadata": {},
   "outputs": [],
   "source": [
    "indexes, metrics = model.similar(\"smart\")"
   ]
  },
  {
   "cell_type": "code",
   "execution_count": 31,
   "metadata": {},
   "outputs": [
    {
     "data": {
      "text/plain": [
       "array(['cute', 'dumb', 'lazy', 'hacking', 'talking', 'taggart', 'dirty',\n",
       "       'backup', 'kids', 'clever'], dtype='<U78')"
      ]
     },
     "execution_count": 31,
     "metadata": {},
     "output_type": "execute_result"
    }
   ],
   "source": [
    "model.vocab[indexes]"
   ]
  },
  {
   "cell_type": "code",
   "execution_count": 32,
   "metadata": {},
   "outputs": [],
   "source": [
    "indexes, metrics = model.similar(\"smart\")"
   ]
  },
  {
   "cell_type": "code",
   "execution_count": 33,
   "metadata": {},
   "outputs": [
    {
     "data": {
      "text/plain": [
       "rec.array([('cute', 0.69646093), ('dumb', 0.68990728),\n",
       "           ('lazy', 0.68271411), ('hacking', 0.68189179),\n",
       "           ('talking', 0.6762697 ), ('taggart', 0.67329918),\n",
       "           ('dirty', 0.66787625), ('backup', 0.66201173),\n",
       "           ('kids', 0.65968448), ('clever', 0.65808112)],\n",
       "          dtype=[('word', '<U78'), ('metric', '<f8')])"
      ]
     },
     "execution_count": 33,
     "metadata": {},
     "output_type": "execute_result"
    }
   ],
   "source": [
    "model.generate_response(indexes, metrics)"
   ]
  },
  {
   "cell_type": "code",
   "execution_count": 34,
   "metadata": {},
   "outputs": [
    {
     "data": {
      "text/plain": [
       "(array([ 2437,  5478,  2670, 10309,  7593, 10230,  9963,  9744,  3964,\n",
       "         2428]),\n",
       " array([0.87576518, 0.84227757, 0.76672897, 0.7660271 , 0.76253066,\n",
       "        0.7598084 , 0.75647424, 0.75472949, 0.75291579, 0.75183957]))"
      ]
     },
     "execution_count": 34,
     "metadata": {},
     "output_type": "execute_result"
    }
   ],
   "source": [
    "indexes, metrics = model.similar(\"dog\")\n",
    "indexes, metrics"
   ]
  },
  {
   "cell_type": "code",
   "execution_count": 35,
   "metadata": {},
   "outputs": [
    {
     "data": {
      "text/plain": [
       "rec.array([('cat', 0.87576518), ('cow', 0.84227757), ('bird', 0.76672897),\n",
       "           ('rat', 0.7660271 ), ('goat', 0.76253066), ('pig', 0.7598084 ),\n",
       "           ('rabbit', 0.75647424), ('hamster', 0.75472949),\n",
       "           ('dogs', 0.75291579), ('bear', 0.75183957)],\n",
       "          dtype=[('word', '<U78'), ('metric', '<f8')])"
      ]
     },
     "execution_count": 35,
     "metadata": {},
     "output_type": "execute_result"
    }
   ],
   "source": [
    "model.generate_response(indexes, metrics)"
   ]
  },
  {
   "cell_type": "code",
   "execution_count": 36,
   "metadata": {},
   "outputs": [
    {
     "data": {
      "text/plain": [
       "(array([1087, 1145, 7523, 1335,  648, 6768,  344, 3141, 8419, 9504]),\n",
       " array([0.28593446, 0.27063314, 0.27039194, 0.26973328, 0.26502973,\n",
       "        0.26490313, 0.26444308, 0.26294156, 0.26041239, 0.26031817]))"
      ]
     },
     "execution_count": 36,
     "metadata": {},
     "output_type": "execute_result"
    }
   ],
   "source": [
    "indexes, metrics = model.analogy(pos=['king', 'woman'], neg=['man'])\n",
    "indexes, metrics"
   ]
  },
  {
   "cell_type": "code",
   "execution_count": 37,
   "metadata": {},
   "outputs": [
    {
     "data": {
      "text/plain": [
       "[('queen', 0.2859344576479652),\n",
       " ('prince', 0.27063313682239065),\n",
       " ('empress', 0.2703919371474418),\n",
       " ('wife', 0.26973328313537265),\n",
       " ('emperor', 0.2650297335263984),\n",
       " ('regent', 0.2649031274090863),\n",
       " ('son', 0.26444307759691077),\n",
       " ('monarch', 0.26294156007641856),\n",
       " ('aragon', 0.26041239175013287),\n",
       " ('crown_prince', 0.26031817003341484)]"
      ]
     },
     "execution_count": 37,
     "metadata": {},
     "output_type": "execute_result"
    }
   ],
   "source": [
    "model.generate_response(indexes, metrics).tolist()"
   ]
  },
  {
   "cell_type": "code",
   "execution_count": 38,
   "metadata": {},
   "outputs": [],
   "source": [
    "clusters = word2vec.load_clusters('./text8-clusters.txt')"
   ]
  },
  {
   "cell_type": "code",
   "execution_count": 39,
   "metadata": {},
   "outputs": [],
   "source": [
    "model.clusters = clusters"
   ]
  },
  {
   "cell_type": "code",
   "execution_count": 40,
   "metadata": {},
   "outputs": [],
   "source": [
    "indexes, metrics = model.analogy(pos=[\"paris\", \"germany\"], neg=[\"france\"])"
   ]
  },
  {
   "cell_type": "code",
   "execution_count": 41,
   "metadata": {},
   "outputs": [
    {
     "data": {
      "text/plain": [
       "[('berlin', 0.32593820767968884, 15),\n",
       " ('munich', 0.29014661675674336, 21),\n",
       " ('vienna', 0.2836317485622388, 12),\n",
       " ('moscow', 0.26963188460573884, 74),\n",
       " ('leipzig', 0.2682571044531965, 8),\n",
       " ('st_petersburg', 0.26349637585896446, 61),\n",
       " ('dresden', 0.2521168820841117, 71),\n",
       " ('hamburg', 0.24860147001471591, 8),\n",
       " ('prague', 0.2474866704624842, 85),\n",
       " ('z_rich', 0.24492016604906452, 55)]"
      ]
     },
     "execution_count": 41,
     "metadata": {},
     "output_type": "execute_result"
    }
   ],
   "source": [
    "model.generate_response(indexes, metrics).tolist()"
   ]
  },
  {
   "cell_type": "code",
   "execution_count": 42,
   "metadata": {},
   "outputs": [],
   "source": [
    "indexes, metrics = model.analogy(pos=['king', 'woman'], neg=['man'])"
   ]
  },
  {
   "cell_type": "code",
   "execution_count": 43,
   "metadata": {},
   "outputs": [
    {
     "data": {
      "text/plain": [
       "[('queen', 0.2859344576479652, 20),\n",
       " ('prince', 0.27063313682239065, 14),\n",
       " ('empress', 0.2703919371474418, 72),\n",
       " ('wife', 0.26973328313537265, 24),\n",
       " ('emperor', 0.2650297335263984, 67),\n",
       " ('regent', 0.2649031274090863, 11),\n",
       " ('son', 0.26444307759691077, 15),\n",
       " ('monarch', 0.26294156007641856, 56),\n",
       " ('aragon', 0.26041239175013287, 54),\n",
       " ('crown_prince', 0.26031817003341484, 6)]"
      ]
     },
     "execution_count": 43,
     "metadata": {},
     "output_type": "execute_result"
    }
   ],
   "source": [
    "model.generate_response(indexes, metrics).tolist()"
   ]
  },
  {
   "cell_type": "code",
   "execution_count": 44,
   "metadata": {},
   "outputs": [],
   "source": [
    "from scipy.stats import pearsonr, spearmanr"
   ]
  },
  {
   "cell_type": "code",
   "execution_count": 45,
   "metadata": {},
   "outputs": [],
   "source": [
    "import numpy as np"
   ]
  },
  {
   "cell_type": "code",
   "execution_count": 46,
   "metadata": {},
   "outputs": [
    {
     "data": {
      "text/plain": [
       "(array([ 2437,  5478,  2670, 10309,  7593, 10230,  9963,  9744,  3964,\n",
       "         2428]),\n",
       " array([0.87576518, 0.84227757, 0.76672897, 0.7660271 , 0.76253066,\n",
       "        0.7598084 , 0.75647424, 0.75472949, 0.75291579, 0.75183957]))"
      ]
     },
     "execution_count": 46,
     "metadata": {},
     "output_type": "execute_result"
    }
   ],
   "source": [
    "indexes, metrics = model.similar(\"dog\")\n",
    "indexes, metrics"
   ]
  },
  {
   "cell_type": "code",
   "execution_count": 47,
   "metadata": {},
   "outputs": [
    {
     "data": {
      "text/plain": [
       "[('cat', 0.8757651848202183, 12),\n",
       " ('cow', 0.8422775733957731, 72),\n",
       " ('bird', 0.7667289670751051, 84),\n",
       " ('rat', 0.7660270992193063, 46),\n",
       " ('goat', 0.7625306602938164, 51),\n",
       " ('pig', 0.7598083990187189, 10),\n",
       " ('rabbit', 0.7564742431256671, 88),\n",
       " ('hamster', 0.7547294916720856, 23),\n",
       " ('dogs', 0.7529157851955368, 69),\n",
       " ('bear', 0.7518395681667571, 43)]"
      ]
     },
     "execution_count": 47,
     "metadata": {},
     "output_type": "execute_result"
    }
   ],
   "source": [
    "model.generate_response(indexes, metrics).tolist()"
   ]
  },
  {
   "cell_type": "code",
   "execution_count": 49,
   "metadata": {},
   "outputs": [
    {
     "data": {
      "text/plain": [
       "<word2vec.wordvectors.WordVectors at 0x10da3d358>"
      ]
     },
     "execution_count": 49,
     "metadata": {},
     "output_type": "execute_result"
    }
   ],
   "source": [
    "model"
   ]
  },
  {
   "cell_type": "code",
   "execution_count": 50,
   "metadata": {},
   "outputs": [
    {
     "ename": "AttributeError",
     "evalue": "'WordVectors' object has no attribute 'embeddings'",
     "output_type": "error",
     "traceback": [
      "\u001b[0;31m---------------------------------------------------------------------------\u001b[0m",
      "\u001b[0;31mAttributeError\u001b[0m                            Traceback (most recent call last)",
      "\u001b[0;32m<ipython-input-50-38a9224de534>\u001b[0m in \u001b[0;36m<module>\u001b[0;34m\u001b[0m\n\u001b[0;32m----> 1\u001b[0;31m \u001b[0mmodel\u001b[0m\u001b[0;34m.\u001b[0m\u001b[0membeddings\u001b[0m\u001b[0;34m\u001b[0m\u001b[0m\n\u001b[0m",
      "\u001b[0;31mAttributeError\u001b[0m: 'WordVectors' object has no attribute 'embeddings'"
     ]
    }
   ],
   "source": [
    "model.embeddings"
   ]
  },
  {
   "cell_type": "code",
   "execution_count": 51,
   "metadata": {},
   "outputs": [
    {
     "data": {
      "text/plain": [
       "[('cat', 0.8757651848202183, 12),\n",
       " ('cow', 0.8422775733957731, 72),\n",
       " ('bird', 0.7667289670751051, 84),\n",
       " ('rat', 0.7660270992193063, 46),\n",
       " ('goat', 0.7625306602938164, 51),\n",
       " ('pig', 0.7598083990187189, 10),\n",
       " ('rabbit', 0.7564742431256671, 88),\n",
       " ('hamster', 0.7547294916720856, 23),\n",
       " ('dogs', 0.7529157851955368, 69),\n",
       " ('bear', 0.7518395681667571, 43)]"
      ]
     },
     "execution_count": 51,
     "metadata": {},
     "output_type": "execute_result"
    }
   ],
   "source": [
    "model.generate_response(indexes, metrics).tolist()"
   ]
  },
  {
   "cell_type": "code",
   "execution_count": 52,
   "metadata": {},
   "outputs": [
    {
     "data": {
      "text/plain": [
       "rec.array([('cat', 0.87576518, 12), ('cow', 0.84227757, 72),\n",
       "           ('bird', 0.76672897, 84), ('rat', 0.7660271 , 46),\n",
       "           ('goat', 0.76253066, 51), ('pig', 0.7598084 , 10),\n",
       "           ('rabbit', 0.75647424, 88), ('hamster', 0.75472949, 23),\n",
       "           ('dogs', 0.75291579, 69), ('bear', 0.75183957, 43)],\n",
       "          dtype=[('word', '<U78'), ('metric', '<f8'), ('cluster', '<i8')])"
      ]
     },
     "execution_count": 52,
     "metadata": {},
     "output_type": "execute_result"
    }
   ],
   "source": [
    "model.generate_response(indexes, metrics)"
   ]
  },
  {
   "cell_type": "code",
   "execution_count": 53,
   "metadata": {},
   "outputs": [
    {
     "data": {
      "text/plain": [
       "('cat', 0.8757651848202183, 12)"
      ]
     },
     "execution_count": 53,
     "metadata": {},
     "output_type": "execute_result"
    }
   ],
   "source": [
    "model.generate_response(indexes, metrics).tolist()[0]"
   ]
  },
  {
   "cell_type": "code",
   "execution_count": 54,
   "metadata": {},
   "outputs": [],
   "source": [
    "response =model.generate_response(indexes, metrics).tolist()"
   ]
  },
  {
   "cell_type": "code",
   "execution_count": null,
   "metadata": {},
   "outputs": [],
   "source": [
    "pearson = pearsonr(response,emb[1,:])[0]\n",
    "    spearman = spearmanr(emb[0,:],emb[1,:])[0]"
   ]
  }
 ],
 "metadata": {
  "kernelspec": {
   "display_name": "Python 3",
   "language": "python",
   "name": "python3"
  },
  "language_info": {
   "codemirror_mode": {
    "name": "ipython",
    "version": 3
   },
   "file_extension": ".py",
   "mimetype": "text/x-python",
   "name": "python",
   "nbconvert_exporter": "python",
   "pygments_lexer": "ipython3",
   "version": "3.7.0"
  }
 },
 "nbformat": 4,
 "nbformat_minor": 2
}
